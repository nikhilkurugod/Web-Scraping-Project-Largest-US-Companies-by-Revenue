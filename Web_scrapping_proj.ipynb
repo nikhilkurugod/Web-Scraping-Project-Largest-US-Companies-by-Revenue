{
 "cells": [
  {
   "cell_type": "code",
   "execution_count": 1,
   "metadata": {},
   "outputs": [],
   "source": [
    "from bs4 import BeautifulSoup\n",
    "import requests\n"
   ]
  },
  {
   "cell_type": "code",
   "execution_count": 2,
   "metadata": {},
   "outputs": [],
   "source": [
    "url = 'https://en.wikipedia.org/wiki/List_of_largest_companies_in_the_United_States_by_revenue'\n",
    "response = requests.get(url)\n",
    "soup = BeautifulSoup(response.text, 'html.parser')"
   ]
  },
  {
   "cell_type": "code",
   "execution_count": null,
   "metadata": {},
   "outputs": [],
   "source": [
    "tables = soup.find_all('table')  # Get all <table> tags\n",
    "table = tables[0]  # Select the second table (index 1)\n",
    "print(table)"
   ]
  },
  {
   "cell_type": "code",
   "execution_count": 4,
   "metadata": {},
   "outputs": [
    {
     "name": "stdout",
     "output_type": "stream",
     "text": [
      "['Rank', 'Name', 'Industry', 'Revenue (USD millions)', 'Revenue growth', 'Employees', 'Headquarters']\n"
     ]
    }
   ],
   "source": [
    "headers = [x.text.strip() for x in table.find_all('th')]\n",
    "print(headers)"
   ]
  },
  {
   "cell_type": "code",
   "execution_count": 5,
   "metadata": {},
   "outputs": [],
   "source": [
    "rows = table.find_all('tr')\n",
    "data=[]"
   ]
  },
  {
   "cell_type": "code",
   "execution_count": 6,
   "metadata": {},
   "outputs": [],
   "source": [
    "for row in rows[1:]:\n",
    "    cells = row.find_all('td')\n",
    "    row_data = [x.text.strip() for x in cells]\n",
    "    if row_data:\n",
    "        data.append(row_data)"
   ]
  },
  {
   "cell_type": "code",
   "execution_count": 7,
   "metadata": {},
   "outputs": [
    {
     "name": "stdout",
     "output_type": "stream",
     "text": [
      "   Rank                  Name                    Industry  \\\n",
      "0     1               Walmart                      Retail   \n",
      "1     2                Amazon  Retail and cloud computing   \n",
      "2     3                 Apple        Electronics industry   \n",
      "3     4    UnitedHealth Group                  Healthcare   \n",
      "4     5    Berkshire Hathaway                Conglomerate   \n",
      "..  ...                   ...                         ...   \n",
      "95   96                  TIAA                  Financials   \n",
      "96   97                   CHS     Agriculture cooperative   \n",
      "97   98  Bristol-Myers Squibb     Pharmaceutical industry   \n",
      "98   99  Dow Chemical Company           Chemical industry   \n",
      "99  100              Best Buy                      Retail   \n",
      "\n",
      "   Revenue (USD millions) Revenue growth  Employees  \\\n",
      "0                 648,125           6.0%  2,100,000   \n",
      "1                 574,785          11.9%  1,525,000   \n",
      "2                 383,482          -2.8%    161,000   \n",
      "3                 371,622          14.6%    440,000   \n",
      "4                 364,482          20.7%    396,500   \n",
      "..                    ...            ...        ...   \n",
      "95                 45,735          11.8%     16,023   \n",
      "96                 45,590          -4.6%     10,609   \n",
      "97                 45,006          -2.5%     34,100   \n",
      "98                 44,622         -21.6%     35,900   \n",
      "99                 43,452          -6.1%     85,000   \n",
      "\n",
      "                      Headquarters  \n",
      "0            Bentonville, Arkansas  \n",
      "1              Seattle, Washington  \n",
      "2            Cupertino, California  \n",
      "3            Minnetonka, Minnesota  \n",
      "4                  Omaha, Nebraska  \n",
      "..                             ...  \n",
      "95         New York City, New York  \n",
      "96  Inver Grove Heights, Minnesota  \n",
      "97         New York City, New York  \n",
      "98               Midland, Michigan  \n",
      "99            Richfield, Minnesota  \n",
      "\n",
      "[100 rows x 7 columns]\n",
      "Data saved to D:\\Data analytics\\DATA_ANALYTICS_Projects\\Data_programs\\Companies_web_scrapped.csv\n"
     ]
    },
    {
     "name": "stderr",
     "output_type": "stream",
     "text": [
      "C:\\Users\\NIKHIL\\AppData\\Local\\Temp\\ipykernel_13336\\4139932728.py:2: DeprecationWarning: \n",
      "Pyarrow will become a required dependency of pandas in the next major release of pandas (pandas 3.0),\n",
      "(to allow more performant data types, such as the Arrow string type, and better interoperability with other libraries)\n",
      "but was not found to be installed on your system.\n",
      "If this would cause problems for you,\n",
      "please provide us feedback at https://github.com/pandas-dev/pandas/issues/54466\n",
      "        \n",
      "  import pandas as pd\n"
     ]
    }
   ],
   "source": [
    "# Step 5: Create a DataFrame\n",
    "import pandas as pd\n",
    "df = pd.DataFrame(data, columns=headers)  # Use the headers as column names\n",
    "print(df)\n",
    "\n",
    "# Step 6: Save the DataFrame to a CSV file\n",
    "output_path = r'D:\\Data analytics\\DATA_ANALYTICS_Projects\\Data_programs\\Companies_web_scrapped.csv'\n",
    "df.to_csv(output_path, index=False)\n",
    "print(f\"Data saved to {output_path}\")"
   ]
  }
 ],
 "metadata": {
  "kernelspec": {
   "display_name": "Python 3",
   "language": "python",
   "name": "python3"
  },
  "language_info": {
   "codemirror_mode": {
    "name": "ipython",
    "version": 3
   },
   "file_extension": ".py",
   "mimetype": "text/x-python",
   "name": "python",
   "nbconvert_exporter": "python",
   "pygments_lexer": "ipython3",
   "version": "3.12.2"
  }
 },
 "nbformat": 4,
 "nbformat_minor": 2
}
